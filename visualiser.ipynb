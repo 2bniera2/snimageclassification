{
 "cells": [
  {
   "cell_type": "markdown",
   "metadata": {},
   "source": [
    "# Visualising the data and the output"
   ]
  },
  {
   "cell_type": "code",
   "execution_count": 1,
   "metadata": {
    "vscode": {
     "languageId": "python"
    }
   },
   "outputs": [
    {
     "data": {
      "image/png": "[encoded data removed]",
      "text/plain": [
       "<Figure size 640x480 with 1 Axes>"
      ]
     },
     "metadata": {},
     "output_type": "display_data"
    },
    {
     "data": {
      "text/plain": [
       "array([[6, 6, 1, 7, 1],\n",
       "       [0, 2, 3, 2, 7],\n",
       "       [4, 2, 2, 2, 2],\n",
       "       [7, 5, 2, 7, 5],\n",
       "       [6, 7, 4, 7, 7]])"
      ]
     },
     "execution_count": 1,
     "metadata": {},
     "output_type": "execute_result"
    }
   ],
   "source": [
    "import matplotlib.pyplot as plt\n",
    "import numpy as np \n",
    "import matplotlib.patches as mpatches\n",
    "\n",
    "a = np.random.randint(0, 8, (5,5))\n",
    "# fig, ax = plt.subplots()\n",
    "fig, ax = plt.subplots()\n",
    "im = plt.imshow(a, cmap='gist_rainbow')\n",
    "\n",
    "\n",
    "values = [i for i in range(8)]\n",
    "\n",
    "colors = [ im.cmap(im.norm(value)) for value in values]\n",
    "\n",
    "classes = [\n",
    "    'facebook',\n",
    "    'flickr',\n",
    "    'google+',\n",
    "    'instagram',\n",
    "    'original',\n",
    "    'telegram',\n",
    "    'twitter', \n",
    "    'whatsapp'\n",
    "]\n",
    "\n",
    "patches = [\n",
    "    mpatches.Patch(color=colors[i], label=classes[i]) for i in range(len(classes))\n",
    "]\n",
    "\n",
    "# patches = [ mpatches.Patch(color=colors[i], label=\"Level {l}\".format(l=values[i]) ) for i in range(len(values)) ]\n",
    "\n",
    "plt.legend(handles=patches, bbox_to_anchor=(1.05, 1), loc=2, borderaxespad=0. )\n",
    "\n",
    "\n",
    "# ax.set_xlim(xmin=0)\n",
    "plt.show()\n",
    "a"
   ]
  },
  {
   "cell_type": "code",
   "execution_count": null,
   "metadata": {
    "vscode": {
     "languageId": "python"
    }
   },
   "outputs": [],
   "source": [
    "from scipy.fftpack import dct\n",
    "from skimage.io import imread\n",
    "from skimage.color import rgb2gray\n",
    "from skimage.transform import resize\n",
    "import cv2\n",
    "\n",
    "im = cv2.imread('/home/lazy/snimageclassification/dataset/facebook/CANON_650D_720X480_INDOOR/1.jpg', cv2.IMREAD_GRAYSCALE)\n",
    "dct = np.uint8(cv2.dct(np.float32(im)/255)*255)\n",
    "dct = cv2.resize(dct, (224, 224))\n",
    "cv2.imshow('test', im)\n",
    "cv2.waitKey(33)\n",
    "cv2.destroyAllWindows()\n",
    "plt.show()\n",
    "dct = (dct-np.min(dct))/(np.max(dct)-np.min(dct))\n",
    "\n",
    "plt.imshow(im, cmap='gray', vmin=0, vmax=1)\n",
    "plt.show()\n",
    "im = resize(im, (224,224))\n",
    "\n",
    "\n",
    "\n",
    "t_im = np.repeat(im[:,:,np.newaxis], 3, axis=-1)\n",
    "\n",
    "# t_im"
   ]
  },
  {
   "cell_type": "code",
   "execution_count": null,
   "metadata": {
    "vscode": {
     "languageId": "python"
    }
   },
   "outputs": [],
   "source": []
  },
  {
   "cell_type": "code",
   "execution_count": null,
   "metadata": {},
   "outputs": [],
   "source": []
  },
  {
   "cell_type": "code",
   "execution_count": null,
   "metadata": {},
   "outputs": [],
   "source": []
  }
 ],
 "metadata": {
  "kernelspec": {
   "display_name": "Python 3 (ipykernel)",
   "language": "python",
   "name": "python3"
  },
  "language_info": {
   "codemirror_mode": {
    "name": "ipython",
    "version": 3
   },
   "file_extension": ".py",
   "mimetype": "text/x-python",
   "name": "python",
   "nbconvert_exporter": "python",
   "pygments_lexer": "ipython3",
   "version": "3.9.15"
  },
  "vscode": {
   "interpreter": {
    "hash": "99bedcf52f2a767484e9a9b06b5165ab3ebe69143ccde884899862fbeb5454ee"
   }
  }
 },
 "nbformat": 4,
 "nbformat_minor": 2
}
