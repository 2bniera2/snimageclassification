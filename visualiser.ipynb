{
 "cells": [
  {
   "cell_type": "code",
   "execution_count": 1,
   "metadata": {},
   "outputs": [],
   "source": [
    "import os\n",
    "os.environ['TF_CPP_MIN_LOG_LEVEL'] = '3' # don't show all the tensorflow startup messages\n",
    "\n",
    "import numpy as np\n",
    "from keras import models\n",
    "from sys import path\n",
    "from utils.data_generator import data_generator\n",
    "from utils.test_utils import get_labels, get_indices, tuple_gen, viewer\n",
    "from input import Input"
   ]
  },
  {
   "cell_type": "code",
   "execution_count": 2,
   "metadata": {},
   "outputs": [],
   "source": [
    "# get predictions and convert numerical values to class name\n",
    "def get_predictions(input, classes, model):\n",
    "    gen = data_generator(\n",
    "        f'{path[0]}/processed/{input.dset_name}_test.h5',\n",
    "        'examples',\n",
    "        classes,\n",
    "        shuffle=False\n",
    "    )\n",
    "\n",
    "    pred = model.predict(gen, use_multiprocessing=True, workers=8)\n",
    "\n",
    "    return np.argmax(pred, axis=1), pred"
   ]
  },
  {
   "cell_type": "code",
   "execution_count": 3,
   "metadata": {},
   "outputs": [],
   "source": [
    "def test(model_name, input, classes):\n",
    "    model = models.load_model(model_name)\n",
    "\n",
    "    # predictions represented as integer representation of classes\n",
    "    best, probs = get_predictions(input, classes, model)\n",
    "\n",
    "\n",
    "    # labels with class and image number\n",
    "    labels = get_labels(input)\n",
    "\n",
    "    indices = get_indices(input)\n",
    "    \n",
    "\n",
    "\n",
    "    results = tuple_gen(labels, probs, indices)\n",
    "\n",
    "    return results\n",
    "\n",
    "    # viewer(results, classes, 0)\n",
    "\n",
    "    # def update(index):\n",
    "    #     viewer(results, classes, index)\n",
    "\n",
    "    # from ipywidgets import interact, IntSlider\n",
    "\n",
    "    # interact(update, index=IntSlider(min=0, max=len(results)-1, step=1, value=0))"
   ]
  },
  {
   "cell_type": "code",
   "execution_count": 12,
   "metadata": {},
   "outputs": [
    {
     "name": "stdout",
     "output_type": "stream",
     "text": [
      "2357/2357 [==============================] - 4s 1ms/step\n"
     ]
    },
    {
     "data": {
      "application/vnd.jupyter.widget-view+json": {
       "model_id": "bc214c06639e41d28d5b1eca8a0731cd",
       "version_major": 2,
       "version_minor": 0
      },
      "text/plain": [
       "interactive(children=(IntSlider(value=0, description='index', max=143), Output()), _dom_classes=('widget-inter…"
      ]
     },
     "metadata": {},
     "output_type": "display_data"
    },
    {
     "data": {
      "text/plain": [
       "<function __main__.update(index)>"
      ]
     },
     "execution_count": 12,
     "metadata": {},
     "output_type": "execute_result"
    }
   ],
   "source": [
    "classes = ['facebook', 'instagram', 'orig', 'telegram', 'twitter',  'whatsapp']\n",
    "dataset = 'iplab'\n",
    "epochs = 10\n",
    "batch_size = 20\n",
    "architecture = 'dct_cnn_2017'\n",
    "location = 'dct_models'\n",
    "h_input = Input(dataset, patch_size=64, sf=[1, 10], his_range=[-50, 50], domain=\"Histogram\")\n",
    "n_input = Input(dataset, domain=\"Noise\", patch_size=64)\n",
    "name = f'models/cnn_{architecture}_{h_input.input_shape}_{epochs}_{batch_size}'\n",
    "\n",
    "results = test(name, h_input, classes)\n",
    "\n",
    "def update(index):\n",
    "    viewer(results, classes, index)\n",
    "\n",
    "from ipywidgets import interact, IntSlider\n",
    "\n",
    "interact(update, index=IntSlider(min=0, max=len(results)-1, step=1, value=0))"
   ]
  },
  {
   "cell_type": "code",
   "execution_count": null,
   "metadata": {},
   "outputs": [],
   "source": []
  }
 ],
 "metadata": {
  "kernelspec": {
   "display_name": "Python 3 (ipykernel)",
   "language": "python",
   "name": "python3"
  },
  "language_info": {
   "codemirror_mode": {
    "name": "ipython",
    "version": 3
   },
   "file_extension": ".py",
   "mimetype": "text/x-python",
   "name": "python",
   "nbconvert_exporter": "python",
   "pygments_lexer": "ipython3",
   "version": "3.9.15"
  }
 },
 "nbformat": 4,
 "nbformat_minor": 2
}
